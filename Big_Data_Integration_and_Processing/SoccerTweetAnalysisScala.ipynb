{
 "cells": [
  {
   "cell_type": "markdown",
   "metadata": {},
   "source": [
    "### Final project of Big Data Integration and Processing with Spark v1.6.0"
   ]
  },
  {
   "cell_type": "code",
   "execution_count": 1,
   "metadata": {
    "collapsed": false
   },
   "outputs": [
    {
     "name": "stdout",
     "output_type": "stream",
     "text": [
      "Spark Version: 2.1.0\n",
      "Spark App Name: Apache Toree"
     ]
    }
   ],
   "source": [
    "print(s\"Spark Version: ${sc.version}\\nSpark App Name: ${sc.appName}\")"
   ]
  },
  {
   "cell_type": "code",
   "execution_count": 2,
   "metadata": {
    "collapsed": false
   },
   "outputs": [],
   "source": [
    "import org.apache.spark.SparkContext._\n",
    "import org.apache.spark.sql.hive.HiveContext\n",
    "import org.apache.spark.sql.functions.{avg, col, lower}"
   ]
  },
  {
   "cell_type": "code",
   "execution_count": 3,
   "metadata": {
    "collapsed": true
   },
   "outputs": [],
   "source": [
    "val sqlContext = new HiveContext(sc)\n",
    "import sqlContext.implicits._"
   ]
  },
  {
   "cell_type": "code",
   "execution_count": 4,
   "metadata": {
    "collapsed": false
   },
   "outputs": [
    {
     "name": "stdout",
     "output_type": "stream",
     "text": [
      "+--------------+\n",
      "|       country|\n",
      "+--------------+\n",
      "|   afghanistan|\n",
      "|       albania|\n",
      "|       algeria|\n",
      "|american samoa|\n",
      "|       andorra|\n",
      "+--------------+\n",
      "only showing top 5 rows\n",
      "\n"
     ]
    }
   ],
   "source": [
    "val countryListRDD = sc.textFile(\"file:///home/ubuntu/UCSD/big-data-3/final-project/country-list.csv\")\n",
    "\n",
    "val countriesDF = countryListRDD.map { row => \n",
    "        row.split(\",\")(0).\n",
    "            trim().\n",
    "            toLowerCase()\n",
    "    }.toDF(\"country\")\n",
    "\n",
    "countriesDF.show(5)"
   ]
  },
  {
   "cell_type": "code",
   "execution_count": 5,
   "metadata": {
    "collapsed": false
   },
   "outputs": [
    {
     "name": "stdout",
     "output_type": "stream",
     "text": [
      "+-------------------+-----+\n",
      "|               word|count|\n",
      "+-------------------+-----+\n",
      "|            timoutd|    1|\n",
      "|          batshuayi|    8|\n",
      "|            stedman|    1|\n",
      "|httpst.cobukkztk4il|    1|\n",
      "|httpst.coatjgqfo4od|    1|\n",
      "+-------------------+-----+\n",
      "only showing top 5 rows\n",
      "\n"
     ]
    }
   ],
   "source": [
    "val tweetsRDD = sc.textFile(\"file:///home/ubuntu/UCSD/big-data-3/final-project/tweets.csv\")\n",
    "\n",
    "val wordCountDF = tweetsRDD.flatMap(_.trim().toLowerCase().split(\" \")).\n",
    "    map(_.replaceAll(\"\"\"[\\p{Punct}&&[^.]]\"\"\", \"\")).\n",
    "    map(word => (word, 1)).\n",
    "    reduceByKey(_ + _).\n",
    "    toDF(\"word\", \"count\")\n",
    "\n",
    "wordCountDF.show(5)"
   ]
  },
  {
   "cell_type": "code",
   "execution_count": 6,
   "metadata": {
    "collapsed": false
   },
   "outputs": [
    {
     "name": "stdout",
     "output_type": "stream",
     "text": [
      "+---------+---------+-----+\n",
      "|  country|     word|count|\n",
      "+---------+---------+-----+\n",
      "|  finland|  finland|    1|\n",
      "|australia|australia|    2|\n",
      "| portugal| portugal|   12|\n",
      "|   israel|   israel|    3|\n",
      "|  nigeria|  nigeria|   67|\n",
      "+---------+---------+-----+\n",
      "only showing top 5 rows\n",
      "\n"
     ]
    }
   ],
   "source": [
    "val joinedDF = countriesDF.join(wordCountDF, \n",
    "                                   countriesDF.col(\"country\") === wordCountDF.col(\"word\"))\n",
    "\n",
    "joinedDF.createOrReplaceTempView(\"joined\")\n",
    "joinedDF.cache()\n",
    "\n",
    "joinedDF.show(5)"
   ]
  },
  {
   "cell_type": "code",
   "execution_count": 7,
   "metadata": {
    "collapsed": false
   },
   "outputs": [
    {
     "data": {
      "text/plain": [
       "54"
      ]
     },
     "execution_count": 7,
     "metadata": {},
     "output_type": "execute_result"
    }
   ],
   "source": [
    "joinedDF.count()"
   ]
  },
  {
   "cell_type": "code",
   "execution_count": 8,
   "metadata": {
    "collapsed": false
   },
   "outputs": [
    {
     "name": "stdout",
     "output_type": "stream",
     "text": [
      "\r",
      "                                                                                \r",
      "+-----+\n",
      "|count|\n",
      "+-----+\n",
      "|   54|\n",
      "+-----+\n",
      "\n"
     ]
    }
   ],
   "source": [
    "val sqlQn1 = sqlContext.sql(\"SELECT count(distinct country) AS count FROM joined\")\n",
    "sqlQn1.show()"
   ]
  },
  {
   "cell_type": "code",
   "execution_count": 9,
   "metadata": {
    "collapsed": false
   },
   "outputs": [
    {
     "data": {
      "text/plain": [
       "54"
      ]
     },
     "execution_count": 9,
     "metadata": {},
     "output_type": "execute_result"
    }
   ],
   "source": [
    "joinedDF.select('country).distinct().count()"
   ]
  },
  {
   "cell_type": "code",
   "execution_count": 10,
   "metadata": {
    "collapsed": false
   },
   "outputs": [
    {
     "name": "stdout",
     "output_type": "stream",
     "text": [
      "\r",
      "                                                                                \r",
      "+--------+-----+\n",
      "| country|count|\n",
      "+--------+-----+\n",
      "|  france|   79|\n",
      "| nigeria|   67|\n",
      "|  norway|   53|\n",
      "| england|   37|\n",
      "|slovakia|   30|\n",
      "+--------+-----+\n",
      "only showing top 5 rows\n",
      "\n"
     ]
    }
   ],
   "source": [
    "val sqlQn2 = sqlContext.sql(\"SELECT country, count FROM joined order by count desc\")\n",
    "sqlQn2.show(5)"
   ]
  },
  {
   "cell_type": "code",
   "execution_count": 11,
   "metadata": {
    "collapsed": false
   },
   "outputs": [
    {
     "name": "stdout",
     "output_type": "stream",
     "text": [
      "\r",
      "                                                                                \r",
      "+--------+-----+\n",
      "| country|count|\n",
      "+--------+-----+\n",
      "|  france|   79|\n",
      "| nigeria|   67|\n",
      "|  norway|   53|\n",
      "| england|   37|\n",
      "|slovakia|   30|\n",
      "+--------+-----+\n",
      "only showing top 5 rows\n",
      "\n"
     ]
    }
   ],
   "source": [
    "joinedDF.select('country, 'count).\n",
    "    sort('count.desc).\n",
    "    //orderBy('count.desc).\n",
    "    show(5)"
   ]
  },
  {
   "cell_type": "code",
   "execution_count": 12,
   "metadata": {
    "collapsed": false
   },
   "outputs": [
    {
     "name": "stdout",
     "output_type": "stream",
     "text": [
      "\r",
      "                                                                                \r",
      "+-----------+-----+\n",
      "|    country|count|\n",
      "+-----------+-----+\n",
      "|      wales|   24|\n",
      "|netherlands|   13|\n",
      "|      japan|    8|\n",
      "|      kenya|    3|\n",
      "|    iceland|    2|\n",
      "+-----------+-----+\n",
      "\n"
     ]
    }
   ],
   "source": [
    "val sqlQn5 = spark.sql(s\"\"\"SELECT country, count FROM joined\n",
    "    | where country in (\\'kenya\\', \\'wales\\', \\'netherlands\\', \\'iceland\\', \\'japan\\')\n",
    "    | order by count desc\"\"\".stripMargin)\n",
    "sqlQn5.show()"
   ]
  },
  {
   "cell_type": "code",
   "execution_count": 13,
   "metadata": {
    "collapsed": false
   },
   "outputs": [
    {
     "name": "stdout",
     "output_type": "stream",
     "text": [
      "+-----------------+\n",
      "|        avg_count|\n",
      "+-----------------+\n",
      "|9.685185185185185|\n",
      "+-----------------+\n",
      "\n"
     ]
    }
   ],
   "source": [
    "val sqlQn6 = sqlContext.sql(s\"SELECT avg(count) as avg_count FROM joined order\")\n",
    "sqlQn6.show()"
   ]
  },
  {
   "cell_type": "code",
   "execution_count": 14,
   "metadata": {
    "collapsed": false
   },
   "outputs": [
    {
     "name": "stdout",
     "output_type": "stream",
     "text": [
      "\r",
      "                                                                                \r",
      "+-----------------+\n",
      "|        avg_count|\n",
      "+-----------------+\n",
      "|9.685185185185185|\n",
      "+-----------------+\n",
      "\n"
     ]
    }
   ],
   "source": [
    "joinedDF.agg(avg('count).alias(\"avg_count\")).\n",
    "    show()"
   ]
  }
 ],
 "metadata": {
  "kernelspec": {
   "display_name": "Apache Toree - Scala",
   "language": "scala",
   "name": "apache_toree_scala"
  },
  "language_info": {
   "file_extension": ".scala",
   "name": "scala",
   "version": "2.11.8"
  }
 },
 "nbformat": 4,
 "nbformat_minor": 2
}
