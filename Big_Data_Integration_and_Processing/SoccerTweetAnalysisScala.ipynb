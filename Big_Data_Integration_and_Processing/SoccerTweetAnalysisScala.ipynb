{
 "cells": [
  {
   "cell_type": "code",
   "execution_count": 18,
   "metadata": {
    "collapsed": false
   },
   "outputs": [
    {
     "name": "stdout",
     "output_type": "stream",
     "text": [
      "Spark Version: 2.1.0\n",
      "Spark App Name: Apache Toree"
     ]
    }
   ],
   "source": [
    "print(s\"Spark Version: ${spark.version}\\nSpark App Name: ${spark.sparkContext.appName}\")"
   ]
  },
  {
   "cell_type": "code",
   "execution_count": 19,
   "metadata": {
    "collapsed": false
   },
   "outputs": [],
   "source": [
    "import org.apache.spark.sql.hive.HiveContext\n",
    "\n",
    "val sqlContext = new HiveContext(sc)\n",
    "import sqlContext.implicits._"
   ]
  },
  {
   "cell_type": "code",
   "execution_count": 20,
   "metadata": {
    "collapsed": false
   },
   "outputs": [
    {
     "data": {
      "text/plain": [
       "Array([afghanistan], [albania], [algeria], [american samoa], [andorra])"
      ]
     },
     "execution_count": 20,
     "metadata": {},
     "output_type": "execute_result"
    }
   ],
   "source": [
    "val countryListRDD = sc.textFile(\"file:///home/ubuntu/UCSD/big-data-3/final-project/country-list.csv\")\n",
    "val countryTupleRDD = countryListRDD.map { row => \n",
    "    val line = row.split(\",\")\n",
    "    (line(0).trim().toLowerCase(), line(1).trim().toLowerCase())\n",
    "}\n",
    "\n",
    "val countryTupleDF = countryTupleRDD.toDF(\"country\", \"cc\").select(\"country\")\n",
    "countryTupleDF.take(5)"
   ]
  },
  {
   "cell_type": "code",
   "execution_count": 21,
   "metadata": {
    "collapsed": false
   },
   "outputs": [],
   "source": [
    "val tweetsRDD = sc.textFile(\"file:///home/ubuntu/UCSD/big-data-3/final-project/tweets.csv\")\n",
    "val wordCountRDD = tweetsRDD.flatMap(_.split(\" \")).\n",
    "    filter(!_.isEmpty).\n",
    "    map(_.replaceAll(\"\"\"[\\p{Punct}&&[^.]]\"\"\", \"\")).\n",
    "    map(word=>(word.toLowerCase(),1)).\n",
    "    reduceByKey(_ + _)\n",
    "val wordCountDF = wordCountRDD.toDF(\"word\", \"cnt\")"
   ]
  },
  {
   "cell_type": "code",
   "execution_count": 22,
   "metadata": {
    "collapsed": false
   },
   "outputs": [
    {
     "data": {
      "text/plain": [
       "54"
      ]
     },
     "execution_count": 22,
     "metadata": {},
     "output_type": "execute_result"
    }
   ],
   "source": [
    "import org.apache.spark.SparkContext._\n",
    "val joinedDF = countryTupleDF.join(wordCountDF, \n",
    "                                   countryTupleDF.col(\"country\") === wordCountDF.col(\"word\"))\n",
    "joinedDF.createOrReplaceTempView(\"joined\")\n",
    "joinedDF.cache()\n",
    "joinedDF.count()"
   ]
  },
  {
   "cell_type": "code",
   "execution_count": 23,
   "metadata": {
    "collapsed": false
   },
   "outputs": [
    {
     "name": "stdout",
     "output_type": "stream",
     "text": [
      "\r",
      "                                                                                \r",
      "+-------+\n",
      "|tot_cnt|\n",
      "+-------+\n",
      "|     54|\n",
      "+-------+\n",
      "\n"
     ]
    }
   ],
   "source": [
    "val sqlDF1 = sqlContext.sql(\"SELECT count(distinct country) AS tot_cnt FROM joined\")\n",
    "sqlDF1.show()"
   ]
  },
  {
   "cell_type": "code",
   "execution_count": 24,
   "metadata": {
    "collapsed": false
   },
   "outputs": [
    {
     "data": {
      "text/plain": [
       "54"
      ]
     },
     "execution_count": 24,
     "metadata": {},
     "output_type": "execute_result"
    }
   ],
   "source": [
    "joinedDF.select(\"country\").distinct().count()"
   ]
  },
  {
   "cell_type": "code",
   "execution_count": 25,
   "metadata": {
    "collapsed": false
   },
   "outputs": [
    {
     "name": "stdout",
     "output_type": "stream",
     "text": [
      "\r",
      "                                                                                \r",
      "+--------+---+\n",
      "| country|cnt|\n",
      "+--------+---+\n",
      "|  france| 79|\n",
      "| nigeria| 67|\n",
      "|  norway| 53|\n",
      "| england| 37|\n",
      "|slovakia| 30|\n",
      "+--------+---+\n",
      "only showing top 5 rows\n",
      "\n"
     ]
    }
   ],
   "source": [
    "val sqlDF2 = sqlContext.sql(\"SELECT country, cnt FROM joined order by cnt desc\")\n",
    "sqlDF2.show(5)"
   ]
  },
  {
   "cell_type": "code",
   "execution_count": 26,
   "metadata": {
    "collapsed": false
   },
   "outputs": [
    {
     "name": "stdout",
     "output_type": "stream",
     "text": [
      "\r",
      "                                                                                \r",
      "+--------+---+\n",
      "| country|cnt|\n",
      "+--------+---+\n",
      "|  france| 79|\n",
      "| nigeria| 67|\n",
      "|  norway| 53|\n",
      "| england| 37|\n",
      "|slovakia| 30|\n",
      "+--------+---+\n",
      "only showing top 5 rows\n",
      "\n"
     ]
    }
   ],
   "source": [
    "joinedDF.select($\"country\", $\"cnt\").\n",
    "    sort($\"cnt\".desc).\n",
    "    //orderBy($\"cnt\".desc).\n",
    "    show(5)"
   ]
  },
  {
   "cell_type": "code",
   "execution_count": 27,
   "metadata": {
    "collapsed": false
   },
   "outputs": [
    {
     "name": "stdout",
     "output_type": "stream",
     "text": [
      "\r",
      "                                                                                \r",
      "+-----------+---+\n",
      "|    country|cnt|\n",
      "+-----------+---+\n",
      "|      wales| 24|\n",
      "|netherlands| 13|\n",
      "|      japan|  8|\n",
      "|      kenya|  3|\n",
      "|    iceland|  2|\n",
      "+-----------+---+\n",
      "\n"
     ]
    }
   ],
   "source": [
    "val sqlDF3 = sqlContext.sql(s\"SELECT country, cnt FROM joined where country in (\\'kenya\\', \\'wales\\', \\'netherlands\\', \\'iceland\\', \\'japan\\') order by cnt desc\")\n",
    "sqlDF3.show()"
   ]
  },
  {
   "cell_type": "code",
   "execution_count": 28,
   "metadata": {
    "collapsed": false
   },
   "outputs": [
    {
     "name": "stdout",
     "output_type": "stream",
     "text": [
      "\r",
      "                                                                                \r",
      "+-----------------+\n",
      "|             cnt1|\n",
      "+-----------------+\n",
      "|9.685185185185185|\n",
      "+-----------------+\n",
      "\n"
     ]
    }
   ],
   "source": [
    "val sqlDF4 = sqlContext.sql(s\"SELECT avg(cnt) as cnt1 FROM joined order by cnt1 desc\")\n",
    "sqlDF4.show()"
   ]
  },
  {
   "cell_type": "code",
   "execution_count": 29,
   "metadata": {
    "collapsed": false
   },
   "outputs": [
    {
     "name": "stdout",
     "output_type": "stream",
     "text": [
      "\r",
      "                                                                                \r",
      "+-----------------+\n",
      "|          avg_cnt|\n",
      "+-----------------+\n",
      "|9.685185185185185|\n",
      "+-----------------+\n",
      "\n"
     ]
    }
   ],
   "source": [
    "joinedDF.agg(avg(\"cnt\").alias(\"avg_cnt\")).\n",
    "    sort($\"avg_cnt\".desc).\n",
    "    show()"
   ]
  }
 ],
 "metadata": {
  "kernelspec": {
   "display_name": "Apache Toree - Scala",
   "language": "scala",
   "name": "apache_toree_scala"
  },
  "language_info": {
   "file_extension": ".scala",
   "name": "scala",
   "version": "2.11.8"
  }
 },
 "nbformat": 4,
 "nbformat_minor": 2
}
