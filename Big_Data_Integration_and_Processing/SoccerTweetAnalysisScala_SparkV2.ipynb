{
 "cells": [
  {
   "cell_type": "markdown",
   "metadata": {},
   "source": [
    "# Big Data Integration and Processing"
   ]
  },
  {
   "cell_type": "markdown",
   "metadata": {},
   "source": [
    "### Final Project"
   ]
  },
  {
   "cell_type": "code",
   "execution_count": 1,
   "metadata": {
    "collapsed": false
   },
   "outputs": [
    {
     "name": "stdout",
     "output_type": "stream",
     "text": [
      "Spark Version: 2.1.0\n",
      "Spark App Name: Apache Toree"
     ]
    }
   ],
   "source": [
    "print(s\"Spark Version: ${spark.version}\\nSpark App Name: ${spark.sparkContext.appName}\")"
   ]
  },
  {
   "cell_type": "code",
   "execution_count": 2,
   "metadata": {
    "collapsed": false
   },
   "outputs": [],
   "source": [
    "import org.apache.spark.SparkContext._\n",
    "import org.apache.spark.sql.functions.{avg, col, lower}\n",
    "\n",
    "//Workaround in Toree to get SparkSession\n",
    "val sparkDummy = spark\n",
    "import sparkDummy.implicits._"
   ]
  },
  {
   "cell_type": "code",
   "execution_count": 3,
   "metadata": {
    "collapsed": false
   },
   "outputs": [
    {
     "name": "stdout",
     "output_type": "stream",
     "text": [
      "+--------------+\n",
      "|       country|\n",
      "+--------------+\n",
      "|   afghanistan|\n",
      "|       albania|\n",
      "|       algeria|\n",
      "|american samoa|\n",
      "|       andorra|\n",
      "+--------------+\n",
      "only showing top 5 rows\n",
      "\n"
     ]
    }
   ],
   "source": [
    "val countriesFileDS = spark.read.\n",
    "    format(\"csv\").\n",
    "    load(\"file:///home/ubuntu/UCSD/big-data-3/final-project/country-list.csv\").\n",
    "    as[(String, String)].\n",
    "    select('_c0 as 'country)\n",
    "\n",
    "val countriesDS = countriesFileDS.select(countriesFileDS.columns.map(c => lower(col(c)).alias(c)): _*)\n",
    "countriesDS.show(5)"
   ]
  },
  {
   "cell_type": "code",
   "execution_count": 4,
   "metadata": {
    "collapsed": false
   },
   "outputs": [
    {
     "name": "stdout",
     "output_type": "stream",
     "text": [
      "+------+-----+\n",
      "|  word|count|\n",
      "+------+-----+\n",
      "|  some|  123|\n",
      "| still|  104|\n",
      "|   ...|   68|\n",
      "| those|   31|\n",
      "|doubts|    1|\n",
      "+------+-----+\n",
      "only showing top 5 rows\n",
      "\n"
     ]
    }
   ],
   "source": [
    "val tweetsDS = spark.read.\n",
    "    format(\"csv\").\n",
    "    load(\"file:///home/ubuntu/UCSD/big-data-3/final-project/tweets.csv\").\n",
    "    as[String].\n",
    "    select('_c0 as 'tweets)\n",
    "\n",
    "val wordCountDS = tweetsDS.explode(\"tweets\", \"word\"){ (line: String) => \n",
    "        line.trim().\n",
    "            toLowerCase().\n",
    "            replaceAll(\"\"\"[\\p{Punct}&&[^.]]\"\"\", \"\").\n",
    "            split(\" \")\n",
    "    }.\n",
    "    filter(!_.toString().trim().isEmpty).\n",
    "    groupBy(\"word\").\n",
    "    count()\n",
    "\n",
    "wordCountDS.show(5)"
   ]
  },
  {
   "cell_type": "code",
   "execution_count": 5,
   "metadata": {
    "collapsed": false
   },
   "outputs": [
    {
     "name": "stdout",
     "output_type": "stream",
     "text": [
      "+---------+-----+\n",
      "|  country|count|\n",
      "+---------+-----+\n",
      "|  albania|    1|\n",
      "|argentina|    3|\n",
      "|australia|    2|\n",
      "|  austria|    5|\n",
      "|  bahamas|    1|\n",
      "+---------+-----+\n",
      "only showing top 5 rows\n",
      "\n"
     ]
    }
   ],
   "source": [
    "val joinedDS = countriesDS.join(wordCountDS, \n",
    "                                   countriesDS.col(\"country\") === wordCountDS.col(\"word\")).\n",
    "                                    select('country, 'count)\n",
    "\n",
    "joinedDS.createOrReplaceTempView(\"joined\")\n",
    "joinedDS.cache()\n",
    "\n",
    "joinedDS.show(5)"
   ]
  },
  {
   "cell_type": "code",
   "execution_count": 6,
   "metadata": {
    "collapsed": false
   },
   "outputs": [
    {
     "data": {
      "text/plain": [
       "54"
      ]
     },
     "execution_count": 6,
     "metadata": {},
     "output_type": "execute_result"
    }
   ],
   "source": [
    "joinedDS.count()"
   ]
  },
  {
   "cell_type": "code",
   "execution_count": 7,
   "metadata": {
    "collapsed": false
   },
   "outputs": [
    {
     "name": "stdout",
     "output_type": "stream",
     "text": [
      "\r",
      "                                                                                \r",
      "+-------+\n",
      "|tot_cnt|\n",
      "+-------+\n",
      "|     54|\n",
      "+-------+\n",
      "\n"
     ]
    }
   ],
   "source": [
    "val sqlQn1 = spark.sql(\"SELECT count(distinct country) AS tot_cnt FROM joined\")\n",
    "sqlQn1.show()"
   ]
  },
  {
   "cell_type": "code",
   "execution_count": 8,
   "metadata": {
    "collapsed": false
   },
   "outputs": [
    {
     "data": {
      "text/plain": [
       "54"
      ]
     },
     "execution_count": 8,
     "metadata": {},
     "output_type": "execute_result"
    }
   ],
   "source": [
    "joinedDS.select('country).distinct().count()"
   ]
  },
  {
   "cell_type": "code",
   "execution_count": 9,
   "metadata": {
    "collapsed": false
   },
   "outputs": [
    {
     "name": "stdout",
     "output_type": "stream",
     "text": [
      "+--------+-----+\n",
      "| country|count|\n",
      "+--------+-----+\n",
      "|  france|   79|\n",
      "| nigeria|   67|\n",
      "|  norway|   53|\n",
      "| england|   37|\n",
      "|slovakia|   30|\n",
      "+--------+-----+\n",
      "only showing top 5 rows\n",
      "\n"
     ]
    }
   ],
   "source": [
    "val sqlQn2 = spark.sql(\"SELECT country, count FROM joined order by count desc\")\n",
    "sqlQn2.show(5)"
   ]
  },
  {
   "cell_type": "code",
   "execution_count": 10,
   "metadata": {
    "collapsed": false
   },
   "outputs": [
    {
     "name": "stdout",
     "output_type": "stream",
     "text": [
      "+--------+-----+\n",
      "| country|count|\n",
      "+--------+-----+\n",
      "|  france|   79|\n",
      "| nigeria|   67|\n",
      "|  norway|   53|\n",
      "| england|   37|\n",
      "|slovakia|   30|\n",
      "+--------+-----+\n",
      "only showing top 5 rows\n",
      "\n"
     ]
    }
   ],
   "source": [
    "joinedDS.select('country, 'count).\n",
    "    sort('count.desc).\n",
    "    //orderBy('count.desc).\n",
    "    show(5)"
   ]
  },
  {
   "cell_type": "code",
   "execution_count": 11,
   "metadata": {
    "collapsed": false
   },
   "outputs": [
    {
     "name": "stdout",
     "output_type": "stream",
     "text": [
      "+-----------+-----+\n",
      "|    country|count|\n",
      "+-----------+-----+\n",
      "|      wales|   24|\n",
      "|netherlands|   13|\n",
      "|      japan|    8|\n",
      "|      kenya|    3|\n",
      "|    iceland|    2|\n",
      "+-----------+-----+\n",
      "\n"
     ]
    }
   ],
   "source": [
    "val sqlQn5 = spark.sql(s\"\"\"SELECT country, count FROM joined\n",
    "    | where country in (\\'kenya\\', \\'wales\\', \\'netherlands\\', \\'iceland\\', \\'japan\\')\n",
    "    | order by count desc\"\"\".stripMargin)\n",
    "sqlQn5.show()"
   ]
  },
  {
   "cell_type": "code",
   "execution_count": 12,
   "metadata": {
    "collapsed": false
   },
   "outputs": [
    {
     "name": "stdout",
     "output_type": "stream",
     "text": [
      "+-----------------+\n",
      "|        avg_count|\n",
      "+-----------------+\n",
      "|9.666666666666666|\n",
      "+-----------------+\n",
      "\n"
     ]
    }
   ],
   "source": [
    "val sqlQn6 = spark.sql(s\"SELECT avg(count) as avg_count FROM joined\")\n",
    "sqlQn6.show()"
   ]
  },
  {
   "cell_type": "code",
   "execution_count": 13,
   "metadata": {
    "collapsed": false
   },
   "outputs": [
    {
     "name": "stdout",
     "output_type": "stream",
     "text": [
      "+-----------------+\n",
      "|        avg_count|\n",
      "+-----------------+\n",
      "|9.666666666666666|\n",
      "+-----------------+\n",
      "\n"
     ]
    }
   ],
   "source": [
    "joinedDS.agg(avg('count).alias(\"avg_count\")).\n",
    "    show()"
   ]
  }
 ],
 "metadata": {
  "kernelspec": {
   "display_name": "Apache Toree - Scala",
   "language": "scala",
   "name": "apache_toree_scala"
  },
  "language_info": {
   "file_extension": ".scala",
   "name": "scala",
   "version": "2.11.8"
  }
 },
 "nbformat": 4,
 "nbformat_minor": 2
}
